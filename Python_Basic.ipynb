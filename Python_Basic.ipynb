{
  "nbformat": 4,
  "nbformat_minor": 0,
  "metadata": {
    "colab": {
      "provenance": []
    },
    "kernelspec": {
      "name": "python3",
      "display_name": "Python 3"
    },
    "language_info": {
      "name": "python"
    }
  },
  "cells": [
    {
      "cell_type": "markdown",
      "source": [
        "Type - Basic Input , Output , Data Types & variable assignments"
      ],
      "metadata": {
        "id": "vc0CW1bjhHdU"
      }
    },
    {
      "cell_type": "code",
      "source": [
        "print(\"Hello World\")\n",
        "print(type(\"Hi\"),type(4),type(False))\n",
        "b=input(\"Enter a Number\")\n",
        "print(type(b)) #input will be always string\n",
        "a= 2+float(b) #we have to convert it for operation\n",
        "print(a)\n",
        "\n",
        "c=59\n",
        "print(c/60) #floating point number\n",
        "print(c//60) #int type number"
      ],
      "metadata": {
        "collapsed": true,
        "id": "1ngkeshQhXMf"
      },
      "execution_count": null,
      "outputs": []
    },
    {
      "cell_type": "markdown",
      "source": [
        "Type - if_else,loops & control statements"
      ],
      "metadata": {
        "id": "Zcr-b_L4slHZ"
      }
    },
    {
      "cell_type": "code",
      "source": [
        "#if_else\n",
        "num=0\n",
        "print(num)\n",
        "if(int(num)>0):\n",
        "  print(\"positive\")\n",
        "elif int(num)<0:\n",
        "  print(\"Negative\")\n",
        "else:\n",
        "  print(\"Zero\")"
      ],
      "metadata": {
        "id": "rXXSwPeesuZ_"
      },
      "execution_count": null,
      "outputs": []
    },
    {
      "cell_type": "code",
      "source": [
        "#for loops\n",
        "for i in [1,2,3]:\n",
        "\tprint(i ,end='')\n",
        "print('\\n')\n",
        "for j in range(1,3):\n",
        "\tprint(j,end='')\n",
        "print('\\n')\n",
        "for k in range(6):\n",
        "\tprint(k,end='')\n",
        "print('\\n')"
      ],
      "metadata": {
        "id": "ZdP5WNb3s4ys"
      },
      "execution_count": null,
      "outputs": []
    },
    {
      "cell_type": "code",
      "source": [
        "#while loops & control statements\n",
        "cnt=0\n",
        "while cnt<5:\n",
        "  if(cnt==1):\n",
        "    pass\n",
        "  elif(cnt==3):\n",
        "    cnt+=1\n",
        "    continue\n",
        "  else:\n",
        "    print(cnt)\n",
        "  cnt+=1\n"
      ],
      "metadata": {
        "id": "toVxWpNEsiAV"
      },
      "execution_count": null,
      "outputs": []
    },
    {
      "cell_type": "markdown",
      "source": [
        "Lists"
      ],
      "metadata": {
        "id": "Vb19hFyGBJRL"
      }
    },
    {
      "cell_type": "markdown",
      "source": [
        "\n",
        "\n",
        "```\n",
        "Declaration & access\n",
        "```\n",
        "\n",
        "\n",
        "\n"
      ],
      "metadata": {
        "id": "M5V-fFOcBQiY"
      }
    },
    {
      "cell_type": "code",
      "source": [
        "a=[1,2,3,4]\n",
        "b=0;\n",
        "'''\n",
        "#method 1\n",
        "for i in range(len(a)):\n",
        "\tb+=a[i];\n",
        "\tprint(a[i],end=\"+\")\n",
        "'''\n",
        "#method2\n",
        "for element in a:\n",
        "\tb+=element\n",
        "\tprint(element,end=\"+\")\n",
        "print(\"= \",b);"
      ],
      "metadata": {
        "id": "T4estQ7BBLxD"
      },
      "execution_count": null,
      "outputs": []
    },
    {
      "cell_type": "markdown",
      "source": [
        "\n",
        "\n",
        "```\n",
        "List Manipulation\n",
        "```\n",
        "\n"
      ],
      "metadata": {
        "id": "kef46LluCHer"
      }
    },
    {
      "cell_type": "code",
      "source": [
        "a=[1,2,3,4]\n",
        "b=0;\n",
        "\n",
        "for i in range(len(a)):\n",
        "\tif a[i]==1:\n",
        "\t\ta[i]=10 #replace 1 with 10\n",
        "\n",
        "for element in a:\n",
        "\tb+=element\n",
        "\tprint(element,end=\"+\")\n",
        "print(\"= \",b)\n",
        "\n",
        "print(\"Thank you \"+ str(a[0]))#concatenation among strings"
      ],
      "metadata": {
        "colab": {
          "base_uri": "https://localhost:8080/"
        },
        "id": "vuDScW-HC0s6",
        "outputId": "e863eabf-48a5-43cc-da4a-f4dd13b42569"
      },
      "execution_count": null,
      "outputs": [
        {
          "output_type": "stream",
          "name": "stdout",
          "text": [
            "10+2+3+4+=  19\n",
            "Thank you 10\n"
          ]
        }
      ]
    },
    {
      "cell_type": "markdown",
      "source": [
        "Indexes of List"
      ],
      "metadata": {
        "id": "ErgQ88w7IvwI"
      }
    },
    {
      "cell_type": "code",
      "source": [
        "#0 based positive index\n",
        "a = [10, 20, 30, 40, 50]\n",
        "# Accessing elements by index\n",
        "print(a[0])  # First element -> 10\n",
        "print(a[1])  # Second element -> 20\n",
        "print(a[4])  # Fifth element -> 50\n",
        "# negative indexed\n",
        "# index -1 refers to the last element.\n",
        "print(a[-1])  # Last element -> 50\n",
        "print(a[-2])  # Second-to-last element -> 40\n",
        "print(a[-5])  # First element -> 10"
      ],
      "metadata": {
        "id": "pqd1GPMnI0Kb"
      },
      "execution_count": null,
      "outputs": []
    },
    {
      "cell_type": "markdown",
      "source": [
        "List Slicing"
      ],
      "metadata": {
        "id": "uXwJJTzgDClz"
      }
    },
    {
      "cell_type": "code",
      "source": [
        "a=[1,2,3,4,5]\n",
        "print(a[:1]) # elements < index 1\n",
        "print(a[1:]) # elements>=index1\n",
        "print(a[:])  #all elements\n",
        "print(a[2:4]) #2<=elements<4\n"
      ],
      "metadata": {
        "id": "c8XW_wM1Ipez"
      },
      "execution_count": null,
      "outputs": []
    },
    {
      "cell_type": "markdown",
      "source": [
        ">2D Indexing"
      ],
      "metadata": {
        "id": "TRH7xe0FMU5V"
      }
    },
    {
      "cell_type": "code",
      "source": [
        "a=[[1,2,3],['cat','dog','bat','kitty']]\n",
        "print(a[1][3])\n",
        "print(a[-1][-1]) # -1 means last one\n",
        "\n",
        "print(a[0][-1])"
      ],
      "metadata": {
        "id": "LB8zG3f7Mj1h"
      },
      "execution_count": null,
      "outputs": []
    },
    {
      "cell_type": "markdown",
      "source": [
        ">Enumerate keyword"
      ],
      "metadata": {
        "id": "0ad64W5bRUGI"
      }
    },
    {
      "cell_type": "code",
      "source": [
        "a=[10,20,30]\n",
        "\n",
        "for i,value in enumerate(a):\n",
        "\tprint(f\"{i}: {value}\")\n",
        "\n",
        "universities=['RUET','DUET','KUET','CUET']\n",
        "\n",
        "for i,university in enumerate(universities):\n",
        "\tprint( f\"{i}: {university}\")"
      ],
      "metadata": {
        "colab": {
          "base_uri": "https://localhost:8080/"
        },
        "id": "BjbCAtW_Rahi",
        "outputId": "3bf2999b-e60e-4a19-8edc-c9d5417a6198"
      },
      "execution_count": null,
      "outputs": [
        {
          "output_type": "stream",
          "name": "stdout",
          "text": [
            "0: 10\n",
            "1: 20\n",
            "2: 30\n",
            "0: RUET\n",
            "1: DUET\n",
            "2: KUET\n",
            "3: CUET\n"
          ]
        }
      ]
    }
  ]
}